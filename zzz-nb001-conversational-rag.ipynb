{
 "cells": [
  {
   "cell_type": "markdown",
   "id": "465c003a-29cf-4cfe-a0c6-d36c04ae2b37",
   "metadata": {},
   "source": [
    "# Conversational RAG"
   ]
  },
  {
   "cell_type": "markdown",
   "id": "96a73fbf-e241-499d-a235-32a87b46ee7c",
   "metadata": {},
   "source": [
    "## Intro\n",
    "* In most RAG applications we want to allow the user to have a back-and-forth conversation, meaning the application needs some sort of \"memory\" of past questions and answers."
   ]
  },
  {
   "cell_type": "markdown",
   "id": "9c8ef906-9484-4b29-a963-e64e9ba68d3b",
   "metadata": {},
   "source": [
    "## The problem\n",
    "* How do we handle when the user refers to previous Q&As in the conversation?"
   ]
  },
  {
   "cell_type": "markdown",
   "id": "3c3ddb93-56cf-4f09-941e-16ea1d0812e3",
   "metadata": {},
   "source": [
    "## The second problem...\n",
    "* This is probably the topic that is worst explained in the LangChain documentation."
   ]
  },
  {
   "cell_type": "markdown",
   "id": "ad3e3967-d201-458f-adbe-c27c104e2eed",
   "metadata": {},
   "source": [
    "## What we need to solve\n",
    "* Store the chat conversation.\n",
    "* When the user enters a new input, put that input in context.\n",
    "* Re-phrase the user input to have a contextualized input.\n",
    "* Send the contextualized input to the retriever.\n",
    "* Use the retriever to build a conversational rag chain.\n",
    "* Add extra features like persising memory (save memory in a file) and session memories."
   ]
  },
  {
   "cell_type": "markdown",
   "id": "2d049b49-4776-4ec4-aec5-02483ec25910",
   "metadata": {},
   "source": [
    "## The process we will follow\n",
    "1. Create a basic RAG without memory.\n",
    "2. Create a ChatPrompTemplate able to contextualize inputs.\n",
    "3. Create a retriever aware of memory.\n",
    "4. Create a basic conversational RAG.\n",
    "5. Create an advanced conversational RAG with persistence and session memories."
   ]
  },
  {
   "cell_type": "markdown",
   "id": "be46161e-45e9-46d7-8214-bcbea10aff2e",
   "metadata": {},
   "source": [
    "## Setup"
   ]
  },
  {
   "cell_type": "markdown",
   "id": "871e0018-cba4-4959-881a-0a65093d202d",
   "metadata": {},
   "source": [
    "#### After you download the code from the github repository in your computer\n",
    "In terminal:\n",
    "* cd project_name\n",
    "* pyenv local 3.11.4\n",
    "* poetry install\n",
    "* poetry shell\n",
    "\n",
    "#### To open the notebook with Jupyter Notebooks\n",
    "In terminal:\n",
    "* jupyter lab\n",
    "\n",
    "Go to the folder of notebooks and open the right notebook.\n",
    "\n",
    "#### To see the code in Virtual Studio Code or your editor of choice.\n",
    "* open Virtual Studio Code or your editor of choice.\n",
    "* open the project-folder\n",
    "* open the 001-conversational-rag.py file"
   ]
  },
  {
   "cell_type": "markdown",
   "id": "f74a7245-c5fe-4c4e-98e7-31b4708e8698",
   "metadata": {},
   "source": [
    "## Create your .env file\n",
    "* In the github repo we have included a file named .env.example\n",
    "* Rename that file to .env file and here is where you will add your confidential api keys. Remember to include:\n",
    "* OPENAI_API_KEY=your_openai_api_key\n",
    "* LANGCHAIN_TRACING_V2=true\n",
    "* LANGCHAIN_ENDPOINT=https://api.smith.langchain.com\n",
    "* LANGCHAIN_API_KEY=your_langchain_api_key\n",
    "* LANGCHAIN_PROJECT=your_project_name"
   ]
  },
  {
   "cell_type": "markdown",
   "id": "863dd299-0780-49ad-a1b7-b76e249350da",
   "metadata": {},
   "source": [
    "We will call our LangSmith project **001-conversational-rag**."
   ]
  },
  {
   "cell_type": "markdown",
   "id": "b436a426-8b00-43f1-b523-60534a289f44",
   "metadata": {},
   "source": [
    "## Connect with the .env file located in the same directory of this notebook"
   ]
  },
  {
   "cell_type": "markdown",
   "id": "e4955a96-5e55-4d55-b92e-bf50538be227",
   "metadata": {},
   "source": [
    "If you are using the pre-loaded poetry shell, you do not need to install the following package because it is already pre-loaded for you:"
   ]
  },
  {
   "cell_type": "code",
   "execution_count": 1,
   "id": "033a1517-e787-4002-817c-7737e18a2be3",
   "metadata": {},
   "outputs": [],
   "source": [
    "#!pip install python-dotenv"
   ]
  },
  {
   "cell_type": "code",
   "id": "fecd39d0-e72e-4bc2-8a68-2fa4008ea365",
   "metadata": {
    "ExecuteTime": {
     "end_time": "2025-06-27T02:53:55.488299Z",
     "start_time": "2025-06-27T02:53:55.474955Z"
    }
   },
   "source": [
    "import os\n",
    "from dotenv import load_dotenv, find_dotenv\n",
    "_ = load_dotenv(find_dotenv())\n",
    "openai_api_key = os.environ[\"OPENAI_API_KEY\"]"
   ],
   "outputs": [],
   "execution_count": 1
  },
  {
   "cell_type": "markdown",
   "id": "03f4a923-b19e-498e-9be5-e47ec4a77d80",
   "metadata": {},
   "source": [
    "## Install LangChain"
   ]
  },
  {
   "cell_type": "markdown",
   "id": "0b6c4cd4-2855-4708-9c94-6dfc4b25bff9",
   "metadata": {},
   "source": [
    "If you are using the pre-loaded poetry shell, you do not need to install the following package because it is already pre-loaded for you:"
   ]
  },
  {
   "cell_type": "code",
   "execution_count": 3,
   "id": "c1cf94ae-6c39-4475-9c5b-4b74d8d78753",
   "metadata": {},
   "outputs": [],
   "source": [
    "#!pip install langchain"
   ]
  },
  {
   "cell_type": "markdown",
   "id": "189e9e17-dfb0-4fd3-85b9-1fba83771941",
   "metadata": {},
   "source": [
    "## Connect with an LLM"
   ]
  },
  {
   "cell_type": "markdown",
   "id": "b0f22855-1656-49e8-b1d9-a352affbd814",
   "metadata": {},
   "source": [
    "If you are using the pre-loaded poetry shell, you do not need to install the following package because it is already pre-loaded for you:"
   ]
  },
  {
   "cell_type": "code",
   "execution_count": 4,
   "id": "148df8e0-361d-4ddd-8709-af48fa1648d1",
   "metadata": {},
   "outputs": [],
   "source": [
    "#!pip install langchain-openai"
   ]
  },
  {
   "cell_type": "markdown",
   "id": "a1998155-91de-4cbc-bc88-8d77beefb51b",
   "metadata": {},
   "source": [
    "* NOTE: Since right now is the best LLM in the market, we will use OpenAI by default. You will see how to connect with other Open Source LLMs like Llama3 or Mistral in a next lesson."
   ]
  },
  {
   "cell_type": "code",
   "id": "6ae8595e-5c07-4b02-8a79-db55fd357527",
   "metadata": {
    "ExecuteTime": {
     "end_time": "2025-06-27T02:54:07.277586Z",
     "start_time": "2025-06-27T02:54:06.504100Z"
    }
   },
   "source": [
    "from langchain_openai import ChatOpenAI\n",
    "\n",
    "llm = ChatOpenAI(model=\"gpt-4o-mini\")"
   ],
   "outputs": [],
   "execution_count": 2
  },
  {
   "cell_type": "markdown",
   "id": "6f2a7e19-cf0b-4ffe-96d8-181be96ac986",
   "metadata": {},
   "source": [
    "If you are using the pre-loaded poetry shell, you do not need to install the following package because it is already pre-loaded for you:"
   ]
  },
  {
   "cell_type": "code",
   "execution_count": 6,
   "id": "bc942a2e-b9d3-4f5f-a612-f212cacc8bdd",
   "metadata": {},
   "outputs": [],
   "source": [
    "#!pip install langchain-community langchain-chroma bs4"
   ]
  },
  {
   "cell_type": "markdown",
   "id": "5bfbec79-d2de-4d55-a2fa-e2125f914e56",
   "metadata": {},
   "source": [
    "## The process we will follow\n",
    "1. Create a basic RAG without memory.\n",
    "2. Create a ChatPrompTemplate able to contextualize inputs.\n",
    "3. Create a retriever aware of memory.\n",
    "4. Create a basic conversational RAG.\n",
    "5. Create an advanced conversational RAG with persistence and session memories."
   ]
  },
  {
   "cell_type": "markdown",
   "id": "af7f596c-4904-49b2-ad65-7c10988d5bf5",
   "metadata": {},
   "source": [
    "## Step 1: Create a basic RAG without memory\n",
    "* We will use the RAG process we already know.\n",
    "* We will use create_stuff_documents_chain to build a qa chain: a chain able to asks questions to an LLM.\n",
    "* We will use create_retrieval_chain and the qa chain to build the RAG chain: a chain able to asks questions to the retriever and then format the response with the LLM."
   ]
  },
  {
   "cell_type": "code",
   "id": "d7f29f71-3210-47b4-91d2-82ae30d11c57",
   "metadata": {
    "ExecuteTime": {
     "end_time": "2025-06-27T02:54:17.259992Z",
     "start_time": "2025-06-27T02:54:15.945453Z"
    }
   },
   "source": [
    "import bs4\n",
    "from langchain import hub\n",
    "from langchain.chains import create_retrieval_chain\n",
    "from langchain.chains.combine_documents import create_stuff_documents_chain\n",
    "from langchain_chroma import Chroma\n",
    "from langchain_community.document_loaders import TextLoader\n",
    "from langchain_core.prompts import ChatPromptTemplate\n",
    "from langchain_openai import OpenAIEmbeddings\n",
    "from langchain_text_splitters import RecursiveCharacterTextSplitter\n",
    "\n",
    "loader = TextLoader(\"./data/be-good.txt\")\n",
    "\n",
    "docs = loader.load()\n",
    "\n",
    "text_splitter = RecursiveCharacterTextSplitter(chunk_size=1000, chunk_overlap=200)\n",
    "\n",
    "splits = text_splitter.split_documents(docs)\n",
    "\n",
    "vectorstore = Chroma.from_documents(documents=splits, embedding=OpenAIEmbeddings())\n",
    "\n",
    "retriever = vectorstore.as_retriever()\n",
    "\n",
    "system_prompt = (\n",
    "    \"You are an assistant for question-answering tasks. \"\n",
    "    \"Use the following pieces of retrieved context to answer \"\n",
    "    \"the question. If you don't know the answer, say that you \"\n",
    "    \"don't know. Use three sentences maximum and keep the \"\n",
    "    \"answer concise.\"\n",
    "    \"\\n\\n\"\n",
    "    \"{context}\"\n",
    ")\n",
    "\n",
    "prompt = ChatPromptTemplate.from_messages(\n",
    "    [\n",
    "        (\"system\", system_prompt),\n",
    "        (\"human\", \"{input}\"),\n",
    "    ]\n",
    ")"
   ],
   "outputs": [],
   "execution_count": 3
  },
  {
   "cell_type": "code",
   "id": "b97dff6a-e703-4ed9-9701-3e08cbaabb35",
   "metadata": {
    "ExecuteTime": {
     "end_time": "2025-06-27T02:54:25.128081Z",
     "start_time": "2025-06-27T02:54:25.121273Z"
    }
   },
   "source": [
    "question_answer_chain = create_stuff_documents_chain(llm, prompt)\n",
    "\n",
    "rag_chain = create_retrieval_chain(retriever, question_answer_chain)"
   ],
   "outputs": [],
   "execution_count": 4
  },
  {
   "cell_type": "markdown",
   "id": "8616863f-6b53-40f3-bcd1-bc0dd73c5207",
   "metadata": {},
   "source": [
    "* Let's try the app:"
   ]
  },
  {
   "cell_type": "code",
   "id": "7772399b-c563-4a46-9051-2c66344c632e",
   "metadata": {
    "ExecuteTime": {
     "end_time": "2025-06-27T02:54:31.488198Z",
     "start_time": "2025-06-27T02:54:29.105903Z"
    }
   },
   "source": [
    "output = rag_chain.invoke({\"input\": \"What is this article about?\"})"
   ],
   "outputs": [],
   "execution_count": 5
  },
  {
   "cell_type": "code",
   "id": "6b471ef7-7723-4b24-9769-27381ada7dc6",
   "metadata": {
    "ExecuteTime": {
     "end_time": "2025-06-27T02:54:34.635999Z",
     "start_time": "2025-06-27T02:54:34.630533Z"
    }
   },
   "source": [
    "output[\"answer\"]"
   ],
   "outputs": [
    {
     "data": {
      "text/plain": [
       "'The article discusses the principles of starting a successful business, emphasizing the importance of creating something that people want while not overly worrying about immediate profitability. It compares business practices to those of charities, suggesting that running a business with a benevolent approach can lead to success, as illustrated by examples like Craigslist. The author reflects on the insights gained from these principles and their implications for entrepreneurs.'"
      ]
     },
     "execution_count": 6,
     "metadata": {},
     "output_type": "execute_result"
    }
   ],
   "execution_count": 6
  },
  {
   "cell_type": "markdown",
   "id": "e804378d-7639-451e-95a8-b40f1419e907",
   "metadata": {},
   "source": [
    "* As we can see in the following question, our app has no memory of the conversation."
   ]
  },
  {
   "cell_type": "code",
   "id": "34cc6fb8-0778-4df4-880f-d4957ff90c27",
   "metadata": {
    "ExecuteTime": {
     "end_time": "2025-06-27T02:54:46.782886Z",
     "start_time": "2025-06-27T02:54:44.309125Z"
    }
   },
   "source": [
    "output = rag_chain.invoke({\"input\": \"What was my previous question about?\"})"
   ],
   "outputs": [],
   "execution_count": 7
  },
  {
   "cell_type": "code",
   "id": "6660b23a-4203-44c8-a516-84bf9b233f67",
   "metadata": {
    "ExecuteTime": {
     "end_time": "2025-06-27T02:54:49.741346Z",
     "start_time": "2025-06-27T02:54:49.736426Z"
    }
   },
   "source": [
    "output[\"answer\"]"
   ],
   "outputs": [
    {
     "data": {
      "text/plain": [
       "\"I don't know.\""
      ]
     },
     "execution_count": 8,
     "metadata": {},
     "output_type": "execute_result"
    }
   ],
   "execution_count": 8
  },
  {
   "cell_type": "markdown",
   "id": "5b495ecd-9dba-45fe-b192-f2210ee4f382",
   "metadata": {},
   "source": [
    "## Step 2: Create a ChatPromptTemplate able to contextualize inputs\n",
    "* Goal: put the input in context and re-phrase it so we have a contextualized input.\n",
    "* We will define a new system prompt that instructs the LLM in how to contextualize the input.\n",
    "* Our new ChatPromptTemplate will include:\n",
    "    * The new system prompt.\n",
    "    * MessagesPlaceholder, a placeholder used to pass the list of messages included in the chat_history."
   ]
  },
  {
   "cell_type": "code",
   "id": "aeb66712-913d-4943-831b-ea80aeda1df5",
   "metadata": {
    "ExecuteTime": {
     "end_time": "2025-06-27T02:54:59.930023Z",
     "start_time": "2025-06-27T02:54:59.926178Z"
    }
   },
   "source": [
    "from langchain_core.prompts import MessagesPlaceholder\n",
    "\n",
    "contextualize_q_system_prompt = (\n",
    "    \"Given a chat history and the latest user question \"\n",
    "    \"which might reference context in the chat history, \"\n",
    "    \"formulate a standalone question which can be understood \"\n",
    "    \"without the chat history. Do NOT answer the question, \"\n",
    "    \"just reformulate it if needed and otherwise return it as is.\"\n",
    ")\n",
    "\n",
    "contextualize_q_prompt = ChatPromptTemplate.from_messages(\n",
    "    [\n",
    "        (\"system\", contextualize_q_system_prompt),\n",
    "        MessagesPlaceholder(\"chat_history\"),\n",
    "        (\"human\", \"{input}\"),\n",
    "    ]\n",
    ")"
   ],
   "outputs": [],
   "execution_count": 9
  },
  {
   "metadata": {
    "ExecuteTime": {
     "end_time": "2025-06-27T02:55:13.880833Z",
     "start_time": "2025-06-27T02:55:13.658846Z"
    }
   },
   "cell_type": "code",
   "source": "print(chat_history)",
   "id": "108ef353dc9ff4e9",
   "outputs": [
    {
     "ename": "NameError",
     "evalue": "name 'chat_history' is not defined",
     "output_type": "error",
     "traceback": [
      "\u001B[31m---------------------------------------------------------------------------\u001B[39m",
      "\u001B[31mNameError\u001B[39m                                 Traceback (most recent call last)",
      "\u001B[36mCell\u001B[39m\u001B[36m \u001B[39m\u001B[32mIn[10]\u001B[39m\u001B[32m, line 1\u001B[39m\n\u001B[32m----> \u001B[39m\u001B[32m1\u001B[39m \u001B[38;5;28mprint\u001B[39m(\u001B[43mchat_history\u001B[49m)\n",
      "\u001B[31mNameError\u001B[39m: name 'chat_history' is not defined"
     ]
    }
   ],
   "execution_count": 10
  },
  {
   "cell_type": "markdown",
   "id": "44b770b5-da83-4687-a5b5-e01f34b0ee39",
   "metadata": {},
   "source": [
    "## Step 3: Create a Retriever aware of the memory\n",
    "* We will build our new retriever with create_history_aware_retriever that uses the contextualized input to get a contextualized response."
   ]
  },
  {
   "cell_type": "code",
   "id": "74591ec2-2461-4a67-9187-82b3d052df67",
   "metadata": {
    "ExecuteTime": {
     "end_time": "2025-06-27T02:55:23.616625Z",
     "start_time": "2025-06-27T02:55:23.610920Z"
    }
   },
   "source": [
    "from langchain.chains import create_history_aware_retriever\n",
    "\n",
    "history_aware_retriever = create_history_aware_retriever(\n",
    "    llm, retriever, contextualize_q_prompt\n",
    ")"
   ],
   "outputs": [],
   "execution_count": 11
  },
  {
   "cell_type": "markdown",
   "id": "6e0aeb46-3002-407a-950f-bd07d6eb0fdc",
   "metadata": {},
   "source": [
    "## Step 4: Create a basic Conversational RAG\n",
    "* We will use the retriever aware of memory, that uses the prompt with contextualized input.\n",
    "* We will use create_stuff_documents_chain to build a qa chain: a chain able to asks questions to an LLM.\n",
    "* We will use create_retrieval_chain and the qa chain to build the RAG chain: a chain able to asks questions to the retriever and then format the response with the LLM."
   ]
  },
  {
   "cell_type": "code",
   "id": "9b154434-7bdd-48e8-9438-5839c2a186d4",
   "metadata": {
    "ExecuteTime": {
     "end_time": "2025-06-27T02:55:36.221Z",
     "start_time": "2025-06-27T02:55:36.216133Z"
    }
   },
   "source": [
    "from langchain.chains import create_retrieval_chain\n",
    "from langchain.chains.combine_documents import create_stuff_documents_chain\n",
    "\n",
    "qa_prompt = ChatPromptTemplate.from_messages(\n",
    "    [\n",
    "        (\"system\", system_prompt),\n",
    "        MessagesPlaceholder(\"chat_history\"),\n",
    "        (\"human\", \"{input}\"),\n",
    "    ]\n",
    ")\n",
    "\n",
    "question_answer_chain = create_stuff_documents_chain(llm, qa_prompt)\n",
    "\n",
    "rag_chain = create_retrieval_chain(history_aware_retriever, question_answer_chain)"
   ],
   "outputs": [],
   "execution_count": 12
  },
  {
   "metadata": {
    "ExecuteTime": {
     "end_time": "2025-06-27T02:56:11.488989Z",
     "start_time": "2025-06-27T02:56:11.459243Z"
    }
   },
   "cell_type": "code",
   "source": "print(chat_history)",
   "id": "7fea110f34e3ac88",
   "outputs": [
    {
     "ename": "NameError",
     "evalue": "name 'chat_history' is not defined",
     "output_type": "error",
     "traceback": [
      "\u001B[31m---------------------------------------------------------------------------\u001B[39m",
      "\u001B[31mNameError\u001B[39m                                 Traceback (most recent call last)",
      "\u001B[36mCell\u001B[39m\u001B[36m \u001B[39m\u001B[32mIn[14]\u001B[39m\u001B[32m, line 1\u001B[39m\n\u001B[32m----> \u001B[39m\u001B[32m1\u001B[39m \u001B[38;5;28mprint\u001B[39m(\u001B[43mchat_history\u001B[49m)\n",
      "\u001B[31mNameError\u001B[39m: name 'chat_history' is not defined"
     ]
    }
   ],
   "execution_count": 14
  },
  {
   "cell_type": "markdown",
   "id": "930e119c-ece2-4686-af5b-1bdc1f1ea19f",
   "metadata": {},
   "source": [
    "#### Trying our basic conversational RAG\n",
    "Below we ask a question and a follow-up question that requires contextualization to return a sensible response. Because our chain includes a \"chat_history\" input, the caller needs to manage the chat history. We can achieve this by appending input and output messages to a list:"
   ]
  },
  {
   "cell_type": "code",
   "id": "f4a1e69d-105f-492c-9b2f-c956522ababd",
   "metadata": {
    "ExecuteTime": {
     "end_time": "2025-06-27T02:57:35.773911Z",
     "start_time": "2025-06-27T02:57:31.649458Z"
    }
   },
   "source": [
    "from langchain_core.messages import AIMessage, HumanMessage\n",
    "\n",
    "chat_history = []\n",
    "\n",
    "question = \"What is this article about?\"\n",
    "\n",
    "ai_msg_1 = rag_chain.invoke({\"input\": question, \"chat_history\": chat_history})\n",
    "\n",
    "chat_history.extend(\n",
    "    [\n",
    "        HumanMessage(content=question),\n",
    "        AIMessage(content=ai_msg_1[\"answer\"]),\n",
    "    ]\n",
    ")\n",
    "\n",
    "second_question = \"What was my previous question about?\"\n",
    "\n",
    "ai_msg_2 = rag_chain.invoke({\"input\": second_question, \"chat_history\": chat_history})\n",
    "\n",
    "chat_history.extend(\n",
    "    [\n",
    "        HumanMessage(content=question),\n",
    "        AIMessage(content=ai_msg_2[\"answer\"]),\n",
    "    ]\n",
    ")\n",
    "\n",
    "print(ai_msg_2[\"answer\"])"
   ],
   "outputs": [
    {
     "name": "stdout",
     "output_type": "stream",
     "text": [
      "Your previous question was about the content of the article, specifically asking what it is about.\n"
     ]
    }
   ],
   "execution_count": 15
  },
  {
   "metadata": {
    "ExecuteTime": {
     "end_time": "2025-06-27T02:57:44.718235Z",
     "start_time": "2025-06-27T02:57:44.714516Z"
    }
   },
   "cell_type": "code",
   "source": "print(chat_history)",
   "id": "8599a8f02ddf11b4",
   "outputs": [
    {
     "name": "stdout",
     "output_type": "stream",
     "text": [
      "[HumanMessage(content='What is this article about?', additional_kwargs={}, response_metadata={}), AIMessage(content='The article discusses the principles of creating successful startups, emphasizing the importance of making something people want without overly focusing on profit at first. It critiques the shortcomings of many well-intentioned projects and compares successful models like Craigslist, which operate with a charitable mindset yet achieve significant results. Overall, it explores the intersection of business success and benevolence in entrepreneurship.', additional_kwargs={}, response_metadata={}), HumanMessage(content='What is this article about?', additional_kwargs={}, response_metadata={}), AIMessage(content='Your previous question was about the content of the article, specifically asking what it is about.', additional_kwargs={}, response_metadata={})]\n"
     ]
    }
   ],
   "execution_count": 16
  },
  {
   "cell_type": "markdown",
   "id": "94384f26-b8ae-4e79-a275-7417dc296225",
   "metadata": {},
   "source": [
    "## Step 5: Advanced conversational RAG with persistence and session memories\n",
    "* We will store the chat history in a python dictionary. In advanced apps, you will use advanced ways to store chat history.\n",
    "* Associate chat history with user session with the function get_session_history().\n",
    "* Inject chat history into inputs and update it after each interaction using BaseChatMessageHistory and RunnableWithMessageHistory."
   ]
  },
  {
   "cell_type": "markdown",
   "id": "691c41fa-8f43-4da6-b3c7-20ec24f91aee",
   "metadata": {},
   "source": [
    "Let's now focus on how to handle and maintain chat history in the question and answer (Q&A) application to make conversations flow more naturally.\n",
    "\n",
    "Here’s a simplified explanation:\n",
    "\n",
    "1. **Stateful Management of Chat History**: Instead of manually entering previous parts of the conversation every time a new input is made, the application can automatically manage and update chat history. This means that the application remembers past interactions and uses that information to understand and respond to new questions more accurately.\n",
    "\n",
    "2. **Tools for Managing Chat History**:\n",
    "   - **BaseChatMessageHistory**: This component is responsible for storing the history of the conversation.\n",
    "   - **RunnableWithMessageHistory**: This acts as a wrapper around the main processing chain (LCEL chain) and the chat history storage (BaseChatMessageHistory). It takes care of adding the historical chat data to new inputs and updating the stored history after each response.\n",
    "\n",
    "3. **How It Works**: When you use these components in an application:\n",
    "   - The application automatically retrieves and updates the chat history every time it processes a new input. This helps in maintaining a continuous and coherent conversation flow.\n",
    "   - When using `RunnableWithMessageHistory`, it manages chat history using a configuration that includes a unique session identifier (`session_id`). This identifier helps the system know which conversation history to retrieve and update whenever a user interacts with the system.\n",
    "\n",
    "4. **Alternative ways to store the chat history**: In our simple implementation, chat histories might be stored in a basic dictionary. More complex systems might use databases like Redis to ensure more reliable and long-term storage of conversation data."
   ]
  },
  {
   "cell_type": "code",
   "id": "2173cc2c-859a-435f-92f8-071fd84e3d69",
   "metadata": {
    "ExecuteTime": {
     "end_time": "2025-06-27T03:02:51.527196Z",
     "start_time": "2025-06-27T03:02:51.495849Z"
    }
   },
   "source": [
    "from langchain_community.chat_message_histories import ChatMessageHistory\n",
    "from langchain_core.chat_history import BaseChatMessageHistory\n",
    "from langchain_core.runnables.history import RunnableWithMessageHistory\n",
    "\n",
    "store = {}\n",
    "\n",
    "\n",
    "def get_session_history(session_id: str) -> BaseChatMessageHistory:\n",
    "    if session_id not in store:\n",
    "        store[session_id] = ChatMessageHistory()\n",
    "    return store[session_id]\n",
    "\n",
    "\n",
    "conversational_rag_chain = RunnableWithMessageHistory(\n",
    "    rag_chain,\n",
    "    get_session_history,\n",
    "    input_messages_key=\"input\",\n",
    "    history_messages_key=\"chat_history\",\n",
    "    output_messages_key=\"answer\",\n",
    ")"
   ],
   "outputs": [],
   "execution_count": 17
  },
  {
   "cell_type": "code",
   "id": "57be5f77-c58b-4910-86e5-76e3430634f9",
   "metadata": {
    "ExecuteTime": {
     "end_time": "2025-06-27T03:03:14.738248Z",
     "start_time": "2025-06-27T03:03:11.093896Z"
    }
   },
   "source": [
    "conversational_rag_chain.invoke(\n",
    "    {\"input\": \"What is this article about?\"},\n",
    "    config={\n",
    "        \"configurable\": {\"session_id\": \"001\"}\n",
    "    },  # constructs a key \"001\" in `store`.\n",
    ")[\"answer\"]"
   ],
   "outputs": [
    {
     "data": {
      "text/plain": [
       "'The article discusses the balance between creating something that people want and the concern for making money, suggesting that successful businesses can operate similarly to charities. It critiques certain well-intentioned projects for lacking accountability and emphasizes the importance of user satisfaction. The author uses examples like Craigslist to illustrate how a business can thrive while prioritizing user needs over maximizing revenue.'"
      ]
     },
     "execution_count": 18,
     "metadata": {},
     "output_type": "execute_result"
    }
   ],
   "execution_count": 18
  },
  {
   "cell_type": "code",
   "id": "76537066-9b6a-49bf-bc23-665feacacd1a",
   "metadata": {
    "ExecuteTime": {
     "end_time": "2025-06-27T03:03:28.248203Z",
     "start_time": "2025-06-27T03:03:26.588966Z"
    }
   },
   "source": [
    "conversational_rag_chain.invoke(\n",
    "    {\"input\": \"What was my previous question about?\"},\n",
    "    config={\"configurable\": {\"session_id\": \"001\"}},\n",
    ")[\"answer\"]"
   ],
   "outputs": [
    {
     "data": {
      "text/plain": [
       "'Your previous question was about the overall topic or content of the article.'"
      ]
     },
     "execution_count": 19,
     "metadata": {},
     "output_type": "execute_result"
    }
   ],
   "execution_count": 19
  },
  {
   "cell_type": "markdown",
   "id": "e23ece4c-a4a6-4f6e-8d9e-7c1b6a79c561",
   "metadata": {},
   "source": [
    "The conversation history can be inspected in the store dict:"
   ]
  },
  {
   "cell_type": "code",
   "execution_count": 21,
   "id": "b1d8d41e-a2f1-4cc2-8833-c41e60d62e1f",
   "metadata": {},
   "outputs": [
    {
     "name": "stdout",
     "output_type": "stream",
     "text": [
      "User: What is this article about?\n",
      "\n",
      "AI: This article discusses the concept of creating something that people want as a motto for startup success. It explores the idea that focusing on making something people want, rather than worrying about the business model initially, can lead to success. The article suggests that businesses can benefit from operating more like charities in terms of meeting people's needs and achieving success.\n",
      "\n",
      "User: What was my previous question about?\n",
      "\n",
      "AI: Your previous question was about the topic or subject of the article that was referenced in the provided text snippets.\n",
      "\n"
     ]
    }
   ],
   "source": [
    "for message in store[\"001\"].messages:\n",
    "    if isinstance(message, AIMessage):\n",
    "        prefix = \"AI\"\n",
    "    else:\n",
    "        prefix = \"User\"\n",
    "\n",
    "    print(f\"{prefix}: {message.content}\\n\")"
   ]
  },
  {
   "metadata": {
    "ExecuteTime": {
     "end_time": "2025-06-27T03:07:38.852678Z",
     "start_time": "2025-06-27T03:07:38.845555Z"
    }
   },
   "cell_type": "code",
   "source": "print(store)",
   "id": "dedd2e4095b680db",
   "outputs": [
    {
     "name": "stdout",
     "output_type": "stream",
     "text": [
      "{'001': InMemoryChatMessageHistory(messages=[HumanMessage(content='What is this article about?', additional_kwargs={}, response_metadata={}), AIMessage(content='The article discusses the balance between creating something that people want and the concern for making money, suggesting that successful businesses can operate similarly to charities. It critiques certain well-intentioned projects for lacking accountability and emphasizes the importance of user satisfaction. The author uses examples like Craigslist to illustrate how a business can thrive while prioritizing user needs over maximizing revenue.', additional_kwargs={}, response_metadata={}), HumanMessage(content='What was my previous question about?', additional_kwargs={}, response_metadata={}), AIMessage(content='Your previous question was about the overall topic or content of the article.', additional_kwargs={}, response_metadata={})])}\n"
     ]
    }
   ],
   "execution_count": 20
  },
  {
   "cell_type": "markdown",
   "id": "5ef0037a-d5cb-4813-8671-bc914401575e",
   "metadata": {},
   "source": [
    "## How to execute the code from Visual Studio Code\n",
    "* In Visual Studio Code, see the file 001-conversational-rag.py\n",
    "* In terminal, make sure you are in the directory of the file and run:\n",
    "    * python 001-conversational-rag.py"
   ]
  },
  {
   "cell_type": "code",
   "execution_count": null,
   "id": "07e055a2-eac5-43a2-8648-cd60bc3da61a",
   "metadata": {},
   "outputs": [],
   "source": []
  }
 ],
 "metadata": {
  "kernelspec": {
   "display_name": "Python 3 (ipykernel)",
   "language": "python",
   "name": "python3"
  },
  "language_info": {
   "codemirror_mode": {
    "name": "ipython",
    "version": 3
   },
   "file_extension": ".py",
   "mimetype": "text/x-python",
   "name": "python",
   "nbconvert_exporter": "python",
   "pygments_lexer": "ipython3",
   "version": "3.11.4"
  }
 },
 "nbformat": 4,
 "nbformat_minor": 5
}
